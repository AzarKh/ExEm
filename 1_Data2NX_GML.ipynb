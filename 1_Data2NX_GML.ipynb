{
 "cells": [
  {
   "cell_type": "code",
   "execution_count": null,
   "metadata": {},
   "outputs": [],
   "source": [
    "import networkx as nx\n",
    "from matplotlib import pyplot as plt"
   ]
  },
  {
   "cell_type": "code",
   "execution_count": null,
   "metadata": {},
   "outputs": [],
   "source": [
    "dataFolder = \"data/\"\n",
    "bcFolder = \"Instagram/\"\n",
    "edgesFile = \"edges.txt\"\n",
    "nodesFile = \"nodes.csv\""
   ]
  },
  {
   "cell_type": "code",
   "execution_count": null,
   "metadata": {},
   "outputs": [],
   "source": [
    "G = nx.Graph()"
   ]
  },
  {
   "cell_type": "code",
   "execution_count": null,
   "metadata": {
    "scrolled": false
   },
   "outputs": [],
   "source": [
    "with open(dataFolder+bcFolder+nodesFile) as csv:\n",
    "    data = csv.readlines()\n",
    "    labels = set()\n",
    "    for row in data:\n",
    "        node,lb = row.replace(\"\\n\",\"\").split(\"/\")\n",
    "        lbs = [str(l) for l in lb.split(\",\")]\n",
    "        G.add_node(int(node),labels=lbs)"
   ]
  },
  {
   "cell_type": "code",
   "execution_count": null,
   "metadata": {},
   "outputs": [],
   "source": [
    "with open(dataFolder+bcFolder+edgesFile) as csv:\n",
    "    data = csv.readlines()\n",
    "    for row in data:\n",
    "        r = row.replace(\"\\n\",\"\").split(\" \")\n",
    "        G.add_edge(int(r[0]),int(r[1]))"
   ]
  },
  {
   "cell_type": "code",
   "execution_count": null,
   "metadata": {},
   "outputs": [],
   "source": [
    "print(nx.info(G))"
   ]
  },
  {
   "cell_type": "code",
   "execution_count": null,
   "metadata": {},
   "outputs": [],
   "source": [
    "nx.write_gml(G,\"graphs/astro.gml\")"
   ]
  },
  {
   "cell_type": "code",
   "execution_count": null,
   "metadata": {},
   "outputs": [],
   "source": [
    "plt.clf()\n",
    "nx.draw(G)\n",
    "plt.draw()\n",
    "plt.plot()\n",
    "plt.savefig(f\"f.png\", bbox_inches='tight')"
   ]
  },
  {
   "cell_type": "code",
   "execution_count": null,
   "metadata": {},
   "outputs": [],
   "source": []
  }
 ],
 "metadata": {
  "kernelspec": {
   "display_name": "Python 3",
   "language": "python",
   "name": "python3"
  },
  "language_info": {
   "codemirror_mode": {
    "name": "ipython",
    "version": 3
   },
   "file_extension": ".py",
   "mimetype": "text/x-python",
   "name": "python",
   "nbconvert_exporter": "python",
   "pygments_lexer": "ipython3",
   "version": "3.8.3"
  }
 },
 "nbformat": 4,
 "nbformat_minor": 2
}
