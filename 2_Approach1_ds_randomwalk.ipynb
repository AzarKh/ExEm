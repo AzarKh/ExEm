{
 "cells": [
  {
   "cell_type": "code",
   "execution_count": 1,
   "metadata": {},
   "outputs": [],
   "source": [
    "import networkx as nx\n",
    "import numpy as np\n",
    "from random import randint\n",
    "from tqdm import tqdm_notebook"
   ]
  },
  {
   "cell_type": "code",
   "execution_count": 2,
   "metadata": {},
   "outputs": [],
   "source": [
    "#read the graph file GML\n",
    "dsGraphFile = \"graphs/blogcatalog.gml\"\n",
    "G = nx.read_gml(dsGraphFile)\n",
    "G.name = \"blogcatalog\""
   ]
  },
  {
   "cell_type": "code",
   "execution_count": 3,
   "metadata": {},
   "outputs": [
    {
     "name": "stdout",
     "output_type": "stream",
     "text": [
      "Name: blogcatalog\n",
      "Type: Graph\n",
      "Number of nodes: 10312\n",
      "Number of edges: 333983\n",
      "Average degree:  64.7756\n"
     ]
    }
   ],
   "source": [
    "print(nx.info(G))"
   ]
  },
  {
   "cell_type": "code",
   "execution_count": 21,
   "metadata": {},
   "outputs": [
    {
     "data": {
      "text/plain": [
       "10312"
      ]
     },
     "execution_count": 21,
     "metadata": {},
     "output_type": "execute_result"
    }
   ],
   "source": [
    "len(G.nodes)"
   ]
  },
  {
   "cell_type": "code",
   "execution_count": 11,
   "metadata": {},
   "outputs": [
    {
     "name": "stdout",
     "output_type": "stream",
     "text": [
      "Execution time in seconds: 0.06203198432922363\n",
      "# domainating set / # all nodes= 50.0097% \n"
     ]
    }
   ],
   "source": [
    "# make dominating set\n",
    "import time\n",
    "startTime = time.time()\n",
    "dominatingSet1 = nx.dominating_set(G)\n",
    "dominatingSet2 = nx.dominating_set(G)\n",
    "executionTime = (time.time() - startTime)\n",
    "print('Execution time in seconds: ' + str(executionTime))\n",
    "print(f\"# domainating set / # all nodes= {100*len(dominatingSet)/len(G.nodes):0.4f}% \")"
   ]
  },
  {
   "cell_type": "code",
   "execution_count": 12,
   "metadata": {},
   "outputs": [
    {
     "data": {
      "text/plain": [
       "5157"
      ]
     },
     "execution_count": 12,
     "metadata": {},
     "output_type": "execute_result"
    }
   ],
   "source": [
    "len(dominatingSet1)"
   ]
  },
  {
   "cell_type": "code",
   "execution_count": 13,
   "metadata": {},
   "outputs": [
    {
     "data": {
      "text/plain": [
       "5157"
      ]
     },
     "execution_count": 13,
     "metadata": {},
     "output_type": "execute_result"
    }
   ],
   "source": [
    "len(dominatingSet2)"
   ]
  },
  {
   "cell_type": "code",
   "execution_count": 16,
   "metadata": {},
   "outputs": [
    {
     "data": {
      "text/plain": [
       "set()"
      ]
     },
     "execution_count": 16,
     "metadata": {},
     "output_type": "execute_result"
    }
   ],
   "source": [
    "dominatingSet2.difference(dominatingSet1)"
   ]
  },
  {
   "cell_type": "code",
   "execution_count": 25,
   "metadata": {
    "scrolled": true
   },
   "outputs": [
    {
     "name": "stderr",
     "output_type": "stream",
     "text": [
      "<ipython-input-25-628932c81955>:10: TqdmDeprecationWarning: This function will be removed in tqdm==5.0.0\n",
      "Please use `tqdm.notebook.tqdm` instead of `tqdm.tqdm_notebook`\n",
      "  for j in tqdm_notebook(range(10)):\n"
     ]
    },
    {
     "data": {
      "application/vnd.jupyter.widget-view+json": {
       "model_id": "4eaa435abd2d4afba4534b48e710c840",
       "version_major": 2,
       "version_minor": 0
      },
      "text/plain": [
       "HBox(children=(FloatProgress(value=0.0, max=10.0), HTML(value='')))"
      ]
     },
     "metadata": {},
     "output_type": "display_data"
    },
    {
     "name": "stdout",
     "output_type": "stream",
     "text": [
      "\n",
      "Execution time in seconds: 36.26092743873596\n"
     ]
    }
   ],
   "source": [
    "# make random walks :P\n",
    "# conditions:   1) at least two dominating nodes should be inside the walk starting from 1 dominating node\n",
    "#               2) length: K\n",
    "K = 80\n",
    "import time\n",
    "#visits = {str(i):0 for i in range(1,len(G.nodes)+1)}\n",
    "startTime = time.time()\n",
    "dsn = list(dominatingSet)\n",
    "walks = []\n",
    "for j in tqdm_notebook(range(10)):\n",
    "    for snode in dsn:\n",
    "        walk = [snode]\n",
    "        node = snode\n",
    "        for i in range(K-1):\n",
    "            ne = list(G.neighbors(node))\n",
    "            r = randint(0,len(ne)-1)\n",
    "            node = ne[r]\n",
    "            walk.append(node)\n",
    "        walks.append(walk)\n",
    "        \n",
    "executionTime = (time.time() - startTime)\n",
    "print('Execution time in seconds: ' + str(executionTime))"
   ]
  },
  {
   "cell_type": "code",
   "execution_count": 13,
   "metadata": {},
   "outputs": [
    {
     "ename": "SyntaxError",
     "evalue": "invalid syntax (<ipython-input-13-0310d8a76dab>, line 1)",
     "output_type": "error",
     "traceback": [
      "\u001b[0;36m  File \u001b[0;32m\"<ipython-input-13-0310d8a76dab>\"\u001b[0;36m, line \u001b[0;32m1\u001b[0m\n\u001b[0;31m    Execution time in seconds: 329.9254903793335\u001b[0m\n\u001b[0m              ^\u001b[0m\n\u001b[0;31mSyntaxError\u001b[0m\u001b[0;31m:\u001b[0m invalid syntax\n"
     ]
    }
   ],
   "source": [
    "Execution time in seconds: 329.9254903793335\n",
    "len(walks)"
   ]
  },
  {
   "cell_type": "markdown",
   "metadata": {},
   "source": [
    "$P(NoMoreThanTwoDominatingNodes)=\\prod_{i=1}^{79}P_i(NotDominatingAtTrial)=\\prod_{i=1}^{79}\\frac{DominatingSetSize}{AllNodes}\\approx\\frac{1}{2^{79}}$\n",
    "\n",
    "We start each sequence with a dominating node, there should be one more dominating node to fulfill the condition, and the probability above indicates presence of less than 2 dominating node.\n",
    "\n",
    "It is equivalent to tossing a coin 79 times and seeing no heads, or in other words, we toss a coin 79 times and all of them are tails."
   ]
  },
  {
   "cell_type": "code",
   "execution_count": 26,
   "metadata": {
    "scrolled": true
   },
   "outputs": [
    {
     "data": {
      "text/plain": [
       "1.6543612251060553e-24"
      ]
     },
     "execution_count": 26,
     "metadata": {},
     "output_type": "execute_result"
    }
   ],
   "source": [
    "1/(2**79)"
   ]
  },
  {
   "cell_type": "code",
   "execution_count": 27,
   "metadata": {},
   "outputs": [
    {
     "data": {
      "text/plain": [
       "8.619221982802548e-20"
      ]
     },
     "execution_count": 27,
     "metadata": {},
     "output_type": "execute_result"
    }
   ],
   "source": [
    "len(walks)*1.6543612251060553e-24"
   ]
  },
  {
   "cell_type": "code",
   "execution_count": 28,
   "metadata": {},
   "outputs": [],
   "source": [
    "# saving the walks into a txt file :P\n",
    "with open(\"corpus_blogcatalog_run_t.txt\",\"w\") as f:\n",
    "    for walk in walks:\n",
    "        f.write(\" \".join(walk)+\"\\n\")"
   ]
  },
  {
   "cell_type": "code",
   "execution_count": null,
   "metadata": {},
   "outputs": [],
   "source": []
  },
  {
   "cell_type": "code",
   "execution_count": null,
   "metadata": {},
   "outputs": [],
   "source": []
  }
 ],
 "metadata": {
  "kernelspec": {
   "display_name": "Python 3",
   "language": "python",
   "name": "python3"
  },
  "language_info": {
   "codemirror_mode": {
    "name": "ipython",
    "version": 3
   },
   "file_extension": ".py",
   "mimetype": "text/x-python",
   "name": "python",
   "nbconvert_exporter": "python",
   "pygments_lexer": "ipython3",
   "version": "3.8.3"
  }
 },
 "nbformat": 4,
 "nbformat_minor": 2
}
